{
 "cells": [
  {
   "cell_type": "code",
   "execution_count": 6,
   "id": "23aa6477",
   "metadata": {},
   "outputs": [
    {
     "name": "stdout",
     "output_type": "stream",
     "text": [
      "7\n",
      "{1, 2, 3, 4, 5, 7}\n",
      "{1, 2, 3, 4, 5, 6, 7, 54}\n",
      "{1, 2, 3, 4, 5, 54, 7}\n"
     ]
    }
   ],
   "source": [
    "set1={1,2,3,4,5,7,1,2}\n",
    "set2={3,1,2,4,5,6,7,1}\n",
    "set1.add(54)\n",
    "print(len(set1))\n",
    "print(set1.intersection(set2))\n",
    "print(set1.union(set2))\n",
    "print(set1)\n"
   ]
  },
  {
   "cell_type": "code",
   "execution_count": 8,
   "id": "101cc873",
   "metadata": {},
   "outputs": [
    {
     "name": "stdout",
     "output_type": "stream",
     "text": [
      "True\n"
     ]
    }
   ],
   "source": [
    "##Boolean data Type\n",
    "'''True,False'''\n",
    "age=input(\"Enter the age\")\n",
    "age=int(age)\n",
    "if age==24:\n",
    "    print(True)\n",
    "else:\n",
    "    print(False);"
   ]
  },
  {
   "cell_type": "code",
   "execution_count": 23,
   "id": "79cb6df5",
   "metadata": {},
   "outputs": [
    {
     "name": "stdout",
     "output_type": "stream",
     "text": [
      "b'jaricode.com'\n",
      "b'\\xff\\xfej\\x00a\\x00r\\x00i\\x00c\\x00o\\x00d\\x00e\\x00.\\x00c\\x00o\\x00m\\x00'\n",
      "b'\\xff\\xfe\\x00\\x00j\\x00\\x00\\x00a\\x00\\x00\\x00r\\x00\\x00\\x00i\\x00\\x00\\x00c\\x00\\x00\\x00o\\x00\\x00\\x00d\\x00\\x00\\x00e\\x00\\x00\\x00.\\x00\\x00\\x00c\\x00\\x00\\x00o\\x00\\x00\\x00m\\x00\\x00\\x00'\n",
      "bytearray(b'jaricode.com')\n",
      "b'\\x00\\x00\\x00'\n",
      "bytearray(b'\\x00\\x00\\x00')\n",
      "b'\\x03\\x17\\x0c\\x0e\\x0f'\n",
      "Memory-view of byte-8:<memory at 0x0000026DB5143940>\n",
      "Memory-view of byte-16:<memory at 0x0000026DB5143700>\n",
      "Memory-view of byte-32:<memory at 0x0000026DB51437C0>\n"
     ]
    }
   ],
   "source": [
    "##Binary-data type in Python\n",
    "'''\n",
    "1.Byte\n",
    "2.ByteArray\n",
    "3.Bytes\n",
    "'''\n",
    "#Converting string to object\n",
    "site_string=\"jaricode.com\"\n",
    "bytesIs_8=bytes(site_string,'utf-8')\n",
    "bytesIs_16=bytes(site_string,'utf-16')\n",
    "bytesIs_32=bytes(site_string,'utf-32')\n",
    "\n",
    "print(bytesIs_8);\n",
    "print(bytesIs_16)\n",
    "print(bytesIs_32)\n",
    "\n",
    "byteArrayIs=bytearray(site_string,'utf-8')\n",
    "print(byteArrayIs)\n",
    "\n",
    "listIs=[1,2,3]\n",
    "\n",
    "##convert init object\n",
    "num=3;\n",
    "ans=bytes(num)\n",
    "print(ans)\n",
    "numberBytesArray=bytearray(ans)\n",
    "print(numberBytesArray)\n",
    "\n",
    "##Working with iterable Object\n",
    "tple={3,12,23,14,15}\n",
    "print(str(bytes(tple)))\n",
    "\n",
    "##Memory view\n",
    "m_view_8=memoryview(bytesIs_8)\n",
    "m_view_16=memoryview(bytesIs_16)\n",
    "m_view_32=memoryview(bytesIs_32);\n",
    "\n",
    "print(f\"Memory-view of byte-8:{m_view_8}\")\n",
    "print(f\"Memory-view of byte-16:{m_view_16}\")\n",
    "print(f\"Memory-view of byte-32:{m_view_32}\")\n",
    "\n",
    "\n",
    "\n"
   ]
  },
  {
   "cell_type": "code",
   "execution_count": 34,
   "id": "396544ae",
   "metadata": {},
   "outputs": [
    {
     "name": "stdout",
     "output_type": "stream",
     "text": [
      "0\n"
     ]
    }
   ],
   "source": [
    "def All_operation(a,op,b):\n",
    "    if op==\"+\":\n",
    "        return a+b;\n",
    "    elif op =='-':\n",
    "        return a-b;\n",
    "    elif op =='*':\n",
    "        return a*b;\n",
    "    elif op =='/':\n",
    "        return a/b;\n",
    "    elif op =='//':\n",
    "        return a//b;\n",
    "    else:\n",
    "        print('others operator')\n",
    "\n",
    "result=All_operation(1,'//',2)\n",
    "print(result)    "
   ]
  }
 ],
 "metadata": {
  "kernelspec": {
   "display_name": "Python 3",
   "language": "python",
   "name": "python3"
  },
  "language_info": {
   "codemirror_mode": {
    "name": "ipython",
    "version": 3
   },
   "file_extension": ".py",
   "mimetype": "text/x-python",
   "name": "python",
   "nbconvert_exporter": "python",
   "pygments_lexer": "ipython3",
   "version": "3.12.3"
  }
 },
 "nbformat": 4,
 "nbformat_minor": 5
}
