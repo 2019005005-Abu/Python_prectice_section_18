{
 "cells": [
  {
   "cell_type": "code",
   "execution_count": 5,
   "id": "df90aa20",
   "metadata": {},
   "outputs": [
    {
     "name": "stdout",
     "output_type": "stream",
     "text": [
      "area of circle is: 50\n",
      "6\n"
     ]
    }
   ],
   "source": [
    "##Write a python to calculate the area of a circle ;\n",
    "##Pr2\n",
    "import math;\n",
    "radious=float(input('radious of circle:'));\n",
    "area=math.pi*radious**2;\n",
    "print('area of circle is:',round(area));\n",
    "def area_of_ractangle(a,b):\n",
    "    return a*b;\n",
    "Ractangle=area_of_ractangle(2,3);\n",
    "print(Ractangle);"
   ]
  }
 ],
 "metadata": {
  "kernelspec": {
   "display_name": "Python 3",
   "language": "python",
   "name": "python3"
  },
  "language_info": {
   "codemirror_mode": {
    "name": "ipython",
    "version": 3
   },
   "file_extension": ".py",
   "mimetype": "text/x-python",
   "name": "python",
   "nbconvert_exporter": "python",
   "pygments_lexer": "ipython3",
   "version": "3.12.6"
  }
 },
 "nbformat": 4,
 "nbformat_minor": 5
}
