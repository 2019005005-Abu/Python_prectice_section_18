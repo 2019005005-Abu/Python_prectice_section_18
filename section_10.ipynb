{
 "cells": [
  {
   "cell_type": "code",
   "execution_count": 28,
   "id": "e74b85a1",
   "metadata": {},
   "outputs": [
    {
     "name": "stdout",
     "output_type": "stream",
     "text": [
      "15\n",
      "(27, 136, 1, 67)\n"
     ]
    }
   ],
   "source": [
    "a=lambda x:x**2;\n",
    "a=lambda x,y,z:max(x,y,z); \n",
    "a=lambda a,b,c:min(a,b,c);  \n",
    "a=lambda *args:sum(args) \n",
    "a=lambda a,b,c:sum((a,b,c))\n",
    "print(a(4,6,5));\n",
    "\n",
    "def avarage(*args):\n",
    "    sumIs=sum((args))\n",
    "    return sumIs//len(args),sumIs,min(args),max(args);\n",
    "print(avarage(1,2,3,63,67))"
   ]
  }
 ],
 "metadata": {
  "kernelspec": {
   "display_name": "Python 3",
   "language": "python",
   "name": "python3"
  },
  "language_info": {
   "codemirror_mode": {
    "name": "ipython",
    "version": 3
   },
   "file_extension": ".py",
   "mimetype": "text/x-python",
   "name": "python",
   "nbconvert_exporter": "python",
   "pygments_lexer": "ipython3",
   "version": "3.12.3"
  }
 },
 "nbformat": 4,
 "nbformat_minor": 5
}
