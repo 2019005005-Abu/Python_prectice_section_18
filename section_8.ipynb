{
 "cells": [
  {
   "cell_type": "code",
   "execution_count": 16,
   "id": "3dbcd278",
   "metadata": {},
   "outputs": [
    {
     "name": "stdout",
     "output_type": "stream",
     "text": [
      "You are able to cast vote\n",
      "You are able to run 10 miles\n",
      "Now you are 27 years old\n",
      "You are young\n"
     ]
    }
   ],
   "source": [
    "def Logic(age, your_birthyear,this_year):\n",
    "     if age>=18:\n",
    "        print(\"You are able to cast vote\")\n",
    "        if age>=18 and age<=30:\n",
    "            print('You are able to run 10 miles')\n",
    "            print(f'Now you are {this_year-your_birthyear} years old');\n",
    "            if age<=32:\n",
    "                print('You are young');\n",
    "        else:\n",
    "            print('You are not able to cast vote');\n",
    "            print(f'You  will have to wait {18-age} years');\n",
    "def checkVote():\n",
    "    age=input('Enter your age');\n",
    "    your_birthyear=int(input('Enter your birthday'));\n",
    "    this_year=int(input('Enter the present year'));\n",
    "    age=int(age);\n",
    "    Logic(age=age,your_birthyear=your_birthyear,this_year=this_year);\n",
    "   \n",
    "checkVote();\n",
    "    "
   ]
  },
  {
   "cell_type": "code",
   "execution_count": 20,
   "id": "a05bc007",
   "metadata": {},
   "outputs": [
    {
     "name": "stdout",
     "output_type": "stream",
     "text": [
      "({1, 2, 3, 4, 5, 6, 7, 8, 9}, {1, 3, 5, 6, 9})\n"
     ]
    }
   ],
   "source": [
    "def SetCalculation(set1,set2):\n",
    "    UnionIs=set1.union(set2);\n",
    "    InteractionIs=set1.intersection(set2);\n",
    "    return UnionIs,InteractionIs;\n",
    "SC=SetCalculation({3,2,4,5,6,7,8},{4,12,5,1,6,8});\n",
    "SC=SetCalculation(set(S for S in range(1,10,1)),{1,3,5,6,9})\n",
    "print(SC)\n",
    "\n",
    "\n"
   ]
  }
 ],
 "metadata": {
  "kernelspec": {
   "display_name": "base",
   "language": "python",
   "name": "python3"
  },
  "language_info": {
   "codemirror_mode": {
    "name": "ipython",
    "version": 3
   },
   "file_extension": ".py",
   "mimetype": "text/x-python",
   "name": "python",
   "nbconvert_exporter": "python",
   "pygments_lexer": "ipython3",
   "version": "3.12.3"
  }
 },
 "nbformat": 4,
 "nbformat_minor": 5
}
